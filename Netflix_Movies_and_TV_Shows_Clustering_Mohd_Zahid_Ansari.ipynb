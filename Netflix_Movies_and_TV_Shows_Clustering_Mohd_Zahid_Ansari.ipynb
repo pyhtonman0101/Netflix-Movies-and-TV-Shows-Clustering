{
  "nbformat": 4,
  "nbformat_minor": 0,
  "metadata": {
    "colab": {
      "private_outputs": true,
      "provenance": [],
      "collapsed_sections": [
        "beRrZCGUAJYm",
        "ppVxRmQnkvTJ",
        "mDgbUHAGgjLW",
        "fge-S5ZAYoAp",
        "85gYPyotYoAp",
        "iky9q4vBYrdO",
        "F6T5p64dYrdO",
        "QHF8YVU7Yuh3",
        "GwzvFGzlYuh3",
        "qYpmQ266Yuh3",
        "bbFf2-_FphqN",
        "_ouA3fa0phqN",
        "Seke61FWphqN",
        "t27r6nlMphqO",
        "r2jJGEOYphqO",
        "jj7wYXLtphqO",
        "eZrbJ2SmphqO",
        "gCFgpxoyphqP",
        "OVtJsKN_phqQ",
        "tgIPom80phqQ",
        "8zGJKyg5p1ck",
        "ZWILFDl5p1ck",
        "Mh4v6_6N0pse",
        "thmmcKw20NtS",
        "EXh0U9oCveiU",
        "7wuGOrhz0itI",
        "BhH2vgX9EjGr",
        "qjKvONjwE8ra",
        "Qjng1HIgb-KC",
        "5BrpEw0WpWPx",
        "EyNgTHvd2WFk",
        "KH5McJBi2d8v",
        "iW_Lq9qf2h6X",
        "-Kee-DAl2viO",
        "gCX9965dhzqZ",
        "gIfDvo9L0UH2"
      ],
      "include_colab_link": true
    },
    "kernelspec": {
      "name": "python3",
      "display_name": "Python 3"
    },
    "language_info": {
      "name": "python"
    }
  },
  "cells": [
    {
      "cell_type": "markdown",
      "metadata": {
        "id": "view-in-github",
        "colab_type": "text"
      },
      "source": [
        "<a href=\"https://colab.research.google.com/github/pyhtonman0101/Netflix-Movies-and-TV-Shows-Clustering/blob/main/Netflix_Movies_and_TV_Shows_Clustering_Mohd_Zahid_Ansari.ipynb\" target=\"_parent\"><img src=\"https://colab.research.google.com/assets/colab-badge.svg\" alt=\"Open In Colab\"/></a>"
      ]
    },
    {
      "cell_type": "markdown",
      "source": [
        "# **Project Name**    - Netflix Movies and TV Shows Clustering\n",
        "\n"
      ],
      "metadata": {
        "id": "vncDsAP0Gaoa"
      }
    },
    {
      "cell_type": "markdown",
      "source": [
        "##### **Project Type**    - Unsupervised\n",
        "##### **Contribution**    - Individual\n",
        "##### **Name-** Mohd Zahid Ansari\n",
        "##### **Email-** mohdzahidansari3@gmail.com "
      ],
      "metadata": {
        "id": "beRrZCGUAJYm"
      }
    },
    {
      "cell_type": "markdown",
      "source": [
        "# **Project Summary -**"
      ],
      "metadata": {
        "id": "FJNUwmbgGyua"
      }
    },
    {
      "cell_type": "markdown",
      "source": [
        "Write the summary here within 500-600 words."
      ],
      "metadata": {
        "id": "F6v_1wHtG2nS"
      }
    },
    {
      "cell_type": "markdown",
      "source": [
        "# **GitHub Link -**"
      ],
      "metadata": {
        "id": "w6K7xa23Elo4"
      }
    },
    {
      "cell_type": "markdown",
      "source": [
        "Provide your GitHub Link here."
      ],
      "metadata": {
        "id": "h1o69JH3Eqqn"
      }
    },
    {
      "cell_type": "markdown",
      "source": [
        "# **Problem Statement**\n"
      ],
      "metadata": {
        "id": "yQaldy8SH6Dl"
      }
    },
    {
      "cell_type": "markdown",
      "source": [
        "This dataset consists of tv shows and movies available on Netflix as of 2019. The dataset is collected from Flixable which is a third-party Netflix search engine. In 2018, they released an interesting report which shows that the number of TV shows on Netflix has nearly tripled since 2010. The streaming service's number of movies has decreased by more than 2,000 titles since 2010, while its number of TV shows has nearly tripled. It will be interesting to explore what all other insights can be obtained from the same dataset.\n",
        "Integrating this dataset with other external datasets such as IMDB ratings, rotten tomatoes can also provide many interesting findings.\n",
        "In this project, you are required to do\n",
        "*   Exploratory Data Analysis\n",
        "*   Understanding what type content is available in different countries\n",
        "*   If Netflix has been increasingly focusing on TV rather than movies in recent years.\n",
        "*   Clustering similar content by matching text-based features"
      ],
      "metadata": {
        "id": "DpeJGUA3kjGy"
      }
    },
    {
      "cell_type": "markdown",
      "source": [
        "### **Dataset Description**\n",
        "![Unsupervised_ML_Netflix_Movies_and_TV_Shows_Clustering_ce34d02ec9.png](data:image/png;base64,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)"
      ],
      "metadata": {
        "id": "ppVxRmQnkvTJ"
      }
    },
    {
      "cell_type": "markdown",
      "source": [
        "# **General Guidelines** : -  "
      ],
      "metadata": {
        "id": "mDgbUHAGgjLW"
      }
    },
    {
      "cell_type": "markdown",
      "source": [
        "1.   Well-structured, formatted, and commented code is required. \n",
        "2.   Exception Handling, Production Grade Code & Deployment Ready Code will be a plus. Those students will be awarded some additional credits. \n",
        "     \n",
        "     The additional credits will have advantages over other students during Star Student selection.\n",
        "       \n",
        "             [ Note: - Deployment Ready Code is defined as, the whole .ipynb notebook should be executable in one go\n",
        "                       without a single error logged. ]\n",
        "\n",
        "3.   Each and every logic should have proper comments.\n",
        "4. You may add as many number of charts you want. Make Sure for each and every chart the following format should be answered.\n",
        "        \n",
        "\n",
        "```\n",
        "# Chart visualization code\n",
        "```\n",
        "            \n",
        "\n",
        "*   Why did you pick the specific chart?\n",
        "*   What is/are the insight(s) found from the chart?\n",
        "* Will the gained insights help creating a positive business impact? \n",
        "Are there any insights that lead to negative growth? Justify with specific reason.\n",
        "\n",
        "5. You have to create at least 15 logical & meaningful charts having important insights.\n",
        "\n",
        "\n",
        "[ Hints : - Do the Vizualization in  a structured way while following \"UBM\" Rule. \n",
        "\n",
        "U - Univariate Analysis,\n",
        "\n",
        "B - Bivariate Analysis (Numerical - Categorical, Numerical - Numerical, Categorical - Categorical)\n",
        "\n",
        "M - Multivariate Analysis\n",
        " ]\n",
        "\n",
        "\n",
        "\n",
        "\n",
        "\n",
        "6. You may add more ml algorithms for model creation. Make sure for each and every algorithm, the following format should be answered.\n",
        "\n",
        "\n",
        "*   Explain the ML Model used and it's performance using Evaluation metric Score Chart.\n",
        "\n",
        "\n",
        "*   Cross- Validation & Hyperparameter Tuning\n",
        "\n",
        "*   Have you seen any improvement? Note down the improvement with updates Evaluation metric Score Chart.\n",
        "\n",
        "*   Explain each evaluation metric's indication towards business and the business impact pf the ML model used.\n",
        "\n",
        "\n",
        "\n",
        "\n",
        "\n",
        "\n",
        "\n",
        "\n",
        "\n",
        "\n",
        "\n",
        "\n",
        "\n",
        "\n",
        "\n",
        "\n",
        "\n",
        "\n"
      ],
      "metadata": {
        "id": "ZrxVaUj-hHfC"
      }
    },
    {
      "cell_type": "markdown",
      "source": [
        "# ***Let's Begin !***"
      ],
      "metadata": {
        "id": "O_i_v8NEhb9l"
      }
    },
    {
      "cell_type": "markdown",
      "source": [
        "## ***1. Know Your Data***"
      ],
      "metadata": {
        "id": "HhfV-JJviCcP"
      }
    },
    {
      "cell_type": "markdown",
      "source": [
        "### Import Libraries"
      ],
      "metadata": {
        "id": "Y3lxredqlCYt"
      }
    },
    {
      "cell_type": "code",
      "source": [
        "# Import Libraries\n",
        "import pandas as pd\n",
        "import numpy as np\n",
        "import seaborn as sns\n",
        "import string\n",
        "import unicodedata\n",
        "import pickle\n",
        "import matplotlib.pyplot as plt\n",
        "%matplotlib inline\n",
        "\n",
        "#Import NLP libraries \n",
        "import nltk\n",
        "nltk.download('stopwords')\n",
        "nltk.download('wordnet')\n",
        "nltk.download('omw-1.4')\n",
        "from nltk.corpus import stopwords\n",
        "from sklearn.feature_extraction.text import TfidfVectorizer\n",
        "from nltk.stem import WordNetLemmatizer\n",
        "from nltk.tokenize import TweetTokenizer\n",
        "from sklearn.decomposition import PCA\n",
        "\n",
        "#Import UnSupervised ML modules\n",
        "from sklearn.cluster import KMeans\n",
        "from sklearn.metrics import silhouette_score\n",
        "import scipy.cluster.hierarchy as shc\n",
        "from sklearn.cluster import AgglomerativeClustering\n",
        "from sklearn.metrics.pairwise import cosine_similarity\n",
        "\n",
        "#The default figure size to 8 inches by 5 inches and the figure resolution (dots per inch) to 100.\n",
        "plt.rcParams.update({'figure.figsize':(8,5),'figure.dpi':100})\n",
        "import warnings\n",
        "warnings.filterwarnings('ignore')"
      ],
      "metadata": {
        "id": "M8Vqi-pPk-HR"
      },
      "execution_count": null,
      "outputs": []
    },
    {
      "cell_type": "markdown",
      "source": [
        "### Dataset Loading"
      ],
      "metadata": {
        "id": "3RnN4peoiCZX"
      }
    },
    {
      "cell_type": "code",
      "source": [
        "#Mounting the google drive to access the files\n",
        "from google.colab import drive\n",
        "drive.mount('/content/drive')"
      ],
      "metadata": {
        "id": "qN6nfXAL0BGV"
      },
      "execution_count": null,
      "outputs": []
    },
    {
      "cell_type": "code",
      "source": [
        "# Load Dataset\n",
        "df = pd.read_csv('/content/drive/MyDrive/Colab Notebooks/Module 4/Netflix Movies and TV Shows Clustering - Mohd Zahid Ansari/NETFLIX MOVIES AND TV SHOWS CLUSTERING.csv', parse_dates=['date_added'])"
      ],
      "metadata": {
        "id": "4CkvbW_SlZ_R"
      },
      "execution_count": null,
      "outputs": []
    },
    {
      "cell_type": "markdown",
      "source": [
        "### Dataset First View"
      ],
      "metadata": {
        "id": "x71ZqKXriCWQ"
      }
    },
    {
      "cell_type": "code",
      "source": [
        "# Dataset First Look\n",
        "df.head()"
      ],
      "metadata": {
        "id": "LWNFOSvLl09H"
      },
      "execution_count": null,
      "outputs": []
    },
    {
      "cell_type": "code",
      "source": [
        "df.tail()"
      ],
      "metadata": {
        "id": "pspAJwWA0_zx"
      },
      "execution_count": null,
      "outputs": []
    },
    {
      "cell_type": "markdown",
      "source": [
        "### Dataset Rows & Columns count"
      ],
      "metadata": {
        "id": "7hBIi_osiCS2"
      }
    },
    {
      "cell_type": "code",
      "source": [
        "# Dataset Rows & Columns count\n",
        "df.shape"
      ],
      "metadata": {
        "id": "Kllu7SJgmLij"
      },
      "execution_count": null,
      "outputs": []
    },
    {
      "cell_type": "markdown",
      "source": [
        "### Dataset Information"
      ],
      "metadata": {
        "id": "JlHwYmJAmNHm"
      }
    },
    {
      "cell_type": "code",
      "source": [
        "# Dataset Info\n",
        "df.info()"
      ],
      "metadata": {
        "id": "e9hRXRi6meOf"
      },
      "execution_count": null,
      "outputs": []
    },
    {
      "cell_type": "markdown",
      "source": [
        "#### Duplicate Values"
      ],
      "metadata": {
        "id": "35m5QtbWiB9F"
      }
    },
    {
      "cell_type": "code",
      "source": [
        "# Dataset Duplicate Value Count\n",
        "print(f'Dublicate values in our dataset is {len(df[df.duplicated()])}')"
      ],
      "metadata": {
        "id": "1sLdpKYkmox0"
      },
      "execution_count": null,
      "outputs": []
    },
    {
      "cell_type": "markdown",
      "source": [
        "#### Missing Values/Null Values"
      ],
      "metadata": {
        "id": "PoPl-ycgm1ru"
      }
    },
    {
      "cell_type": "code",
      "source": [
        "# Missing Values/Null Values Count\n",
        "df.isnull().sum()"
      ],
      "metadata": {
        "id": "GgHWkxvamxVg"
      },
      "execution_count": null,
      "outputs": []
    },
    {
      "cell_type": "code",
      "source": [
        "# Visualizing the missing values\n",
        "sns.heatmap(df.isnull(), cbar=False)"
      ],
      "metadata": {
        "id": "3q5wnI3om9sJ"
      },
      "execution_count": null,
      "outputs": []
    },
    {
      "cell_type": "markdown",
      "source": [
        "### What did you know about your dataset?"
      ],
      "metadata": {
        "id": "H0kj-8xxnORC"
      }
    },
    {
      "cell_type": "markdown",
      "source": [
        "We obserb these things in our dataset:\n",
        "\n",
        "\n",
        "*   There are 7787 rows and 12 features(columns) in our dataset.\n",
        "*   In the dataset, there are missing values for some features. The feature with the highest number of missing values is \"director\" with 2389, followed by \"cast\" with 718 and \"country\" with 507 missing values.\n",
        "\n"
      ],
      "metadata": {
        "id": "gfoNAAC-nUe_"
      }
    },
    {
      "cell_type": "markdown",
      "source": [
        "## ***2. Understanding Your Variables***"
      ],
      "metadata": {
        "id": "nA9Y7ga8ng1Z"
      }
    },
    {
      "cell_type": "code",
      "source": [
        "# Dataset Columns\n",
        "df.columns"
      ],
      "metadata": {
        "id": "j7xfkqrt5Ag5"
      },
      "execution_count": null,
      "outputs": []
    },
    {
      "cell_type": "code",
      "source": [
        "# Dataset Describe\n",
        "df.describe(include='all')"
      ],
      "metadata": {
        "id": "DnOaZdaE5Q5t"
      },
      "execution_count": null,
      "outputs": []
    },
    {
      "cell_type": "markdown",
      "source": [
        "### Variables Description "
      ],
      "metadata": {
        "id": "PBTbrJXOngz2"
      }
    },
    {
      "cell_type": "markdown",
      "source": [
        "**show_id :** Unique ID for every Movie / Tv Show\n",
        "\n",
        "**type :** Identifier - A Movie or TV Show\n",
        "\n",
        "**title :** Title of the Movie / Tv Show\n",
        "\n",
        "**director :** Director of the Movie\n",
        "\n",
        "**cast :** Actors involved in the movie / show\n",
        "\n",
        "**country :** Country where the movie / show was produced\n",
        "\n",
        "**date_added :** Date it was added on Netflix\n",
        "\n",
        "**release_year :** Actual Releaseyear of the movie / show\n",
        "\n",
        "**rating :** TV Rating of the movie / show\n",
        "\n",
        "**duration :** Total Duration - in minutes or number of seasons\n",
        "\n",
        "**listed_in :** Genre\n",
        "\n",
        "**description:** The Summary description"
      ],
      "metadata": {
        "id": "aJV4KIxSnxay"
      }
    },
    {
      "cell_type": "markdown",
      "source": [
        "### Check Unique Values for each variable."
      ],
      "metadata": {
        "id": "u3PMJOP6ngxN"
      }
    },
    {
      "cell_type": "code",
      "source": [
        "# Check Unique Values for each variable.\n",
        "df.nunique()"
      ],
      "metadata": {
        "id": "zms12Yq5n-jE"
      },
      "execution_count": null,
      "outputs": []
    },
    {
      "cell_type": "markdown",
      "source": [
        "## 3. ***Data Wrangling***"
      ],
      "metadata": {
        "id": "dauF4eBmngu3"
      }
    },
    {
      "cell_type": "markdown",
      "source": [
        "### Data Wrangling Code"
      ],
      "metadata": {
        "id": "bKJF3rekwFvQ"
      }
    },
    {
      "cell_type": "code",
      "source": [
        "# Genre of shows\n",
        "df.listed_in.value_counts()"
      ],
      "metadata": {
        "id": "wk-9a2fpoLcV"
      },
      "execution_count": null,
      "outputs": []
    },
    {
      "cell_type": "code",
      "source": [
        "# contry in which a movie was produced\n",
        "df.country.value_counts()"
      ],
      "metadata": {
        "id": "6d92sy8W9joZ"
      },
      "execution_count": null,
      "outputs": []
    },
    {
      "cell_type": "markdown",
      "source": [
        "There are some values where there are more countries and genre than one. So we have to seperate them."
      ],
      "metadata": {
        "id": "iG4ahZPOA-z3"
      }
    },
    {
      "cell_type": "code",
      "source": [
        "# fill country feature with highest frequency of country occured in the column.\n",
        "df['country'].fillna(value=df['country'].mode()[0],inplace=True)"
      ],
      "metadata": {
        "id": "Nk7gpO8KAg2n"
      },
      "execution_count": null,
      "outputs": []
    },
    {
      "cell_type": "code",
      "source": [
        "# Choosing the primary country and primary genre to simplify the analysis\n",
        "# df['country'] = df['country'].apply(lambda x:x.split(',')[0])\n",
        "# df['listed_in'] = df['listed_in'].apply(lambda x:x.split(',')[0])"
      ],
      "metadata": {
        "id": "RlJBYy1A-c-t"
      },
      "execution_count": null,
      "outputs": []
    },
    {
      "cell_type": "code",
      "source": [
        "# Now again contry in which a movie was produced\n",
        "# df.country.value_counts()"
      ],
      "metadata": {
        "id": "0q6SoIPUCN2i"
      },
      "execution_count": null,
      "outputs": []
    },
    {
      "cell_type": "code",
      "source": [
        "# Genre of shows\n",
        "df.listed_in.value_counts()"
      ],
      "metadata": {
        "id": "Z44jsC5ACfBM"
      },
      "execution_count": null,
      "outputs": []
    },
    {
      "cell_type": "code",
      "source": [
        "# Splitting the duration column, and changing the datatype to integer\n",
        "# df['duration'] = df['duration'].apply(lambda x: int(x.split()[0]))"
      ],
      "metadata": {
        "id": "WV7sXPVzD8La"
      },
      "execution_count": null,
      "outputs": []
    },
    {
      "cell_type": "code",
      "source": [
        "# Number of seasons for tv shows\n",
        "df[df['type']=='TV Show'].duration.value_counts()\n",
        "     "
      ],
      "metadata": {
        "id": "0LvAk1R1EFGg"
      },
      "execution_count": null,
      "outputs": []
    },
    {
      "cell_type": "code",
      "source": [
        "# Movie length in minutes\n",
        "df[df['type']=='Movie'].duration.unique()"
      ],
      "metadata": {
        "id": "7b1p7ydAFT2i"
      },
      "execution_count": null,
      "outputs": []
    },
    {
      "cell_type": "code",
      "source": [
        "# Typecasting 'date_added' from string to datetime\n",
        "df[\"date_added\"] = pd.to_datetime(df['date_added'])"
      ],
      "metadata": {
        "id": "CAewemYGFn0c"
      },
      "execution_count": null,
      "outputs": []
    },
    {
      "cell_type": "code",
      "source": [
        "# Adding new attributes month and year of date added\n",
        "\n",
        "df['month_added'] = df['date_added'].dt.month\n",
        "df['year_added'] = df['date_added'].dt.year\n",
        "# df.drop('date_added', axis=1, inplace=True)"
      ],
      "metadata": {
        "id": "_FIDp02uGG4l"
      },
      "execution_count": null,
      "outputs": []
    },
    {
      "cell_type": "code",
      "source": [
        "# Age ratings\n",
        "df.rating.value_counts()"
      ],
      "metadata": {
        "id": "wmtBa4kRGhB4"
      },
      "execution_count": null,
      "outputs": []
    },
    {
      "cell_type": "code",
      "source": [
        "# Changing the values in the rating column\n",
        "rating_map = {'TV-MA':'Adults',\n",
        "              'R':'Adults',\n",
        "              'PG-13':'Teens',\n",
        "              'TV-14':'Young Adults',\n",
        "              'TV-PG':'Older Kids',\n",
        "              'NR':'Adults',\n",
        "              'TV-G':'Kids',\n",
        "              'TV-Y':'Kids',\n",
        "              'TV-Y7':'Older Kids',\n",
        "              'PG':'Older Kids',\n",
        "              'G':'Kids',\n",
        "              'NC-17':'Adults',\n",
        "              'TV-Y7-FV':'Older Kids',\n",
        "              'UR':'Adults'}\n",
        "\n",
        "df['rating'].replace(rating_map, inplace = True)\n",
        "df['rating'].unique()"
      ],
      "metadata": {
        "id": "kgoNdyo4Gs6X"
      },
      "execution_count": null,
      "outputs": []
    },
    {
      "cell_type": "code",
      "source": [
        "# Age ratings\n",
        "df.rating.value_counts()"
      ],
      "metadata": {
        "id": "KiaiN1BCG3K3"
      },
      "execution_count": null,
      "outputs": []
    },
    {
      "cell_type": "markdown",
      "source": [
        "### What all manipulations have you done and insights you found?"
      ],
      "metadata": {
        "id": "MSa1f5Uengrz"
      }
    },
    {
      "cell_type": "markdown",
      "source": [
        "*   Some movies/TV shows have been filmed in multiple countries and have been associated with multiple genres.\n",
        "*   For the purpose of simplifying the analysis, let's focus only on the primary country where the movie/TV show was filmed.\n",
        "*   Similarly, let's consider only the primary genre of the respective movie/TV show for the analysis.\n",
        "*   The majority of shows on Netflix are rated TV-MA, followed by TV-14 and TV-PG, according to ratings data.\n",
        "*   Roughly 50% of shows on Netflix are produced for an adult audience, with young adults, older kids, and kids following in terms of numbers. Teenage-specific shows are the least common on Netflix compared to other age groups."
      ],
      "metadata": {
        "id": "LbyXE7I1olp8"
      }
    },
    {
      "cell_type": "markdown",
      "source": [
        "## ***4. Data Vizualization, Storytelling & Experimenting with charts : Understand the relationships between variables***"
      ],
      "metadata": {
        "id": "GF8Ens_Soomf"
      }
    },
    {
      "cell_type": "markdown",
      "source": [
        "#### Chart - 1"
      ],
      "metadata": {
        "id": "0wOQAZs5pc--"
      }
    },
    {
      "cell_type": "code",
      "source": [
        "plt.figure(figsize=(15,5))\n",
        "sns.barplot(x=df['rating'].value_counts().index, y=df['rating'].value_counts().values, palette='viridis')\n",
        "plt.xlabel('Rating')\n",
        "plt.ylabel('Count')\n",
        "plt.title('Count of Ratings')\n",
        "plt.xticks(rotation=30)\n",
        "plt.show()"
      ],
      "metadata": {
        "id": "7v_ESjsspbW7"
      },
      "execution_count": null,
      "outputs": []
    },
    {
      "cell_type": "markdown",
      "source": [
        "##### 1. Why did you pick the specific chart?"
      ],
      "metadata": {
        "id": "K5QZ13OEpz2H"
      }
    },
    {
      "cell_type": "markdown",
      "source": [
        "To analyse Rating based on rating categories of all TV Shows."
      ],
      "metadata": {
        "id": "XESiWehPqBRc"
      }
    },
    {
      "cell_type": "markdown",
      "source": [
        "##### 2. What is/are the insight(s) found from the chart?"
      ],
      "metadata": {
        "id": "lQ7QKXXCp7Bj"
      }
    },
    {
      "cell_type": "markdown",
      "source": [
        "There are more movies and shows of adult rating type and lowest content for teens."
      ],
      "metadata": {
        "id": "C_j1G7yiqdRP"
      }
    },
    {
      "cell_type": "markdown",
      "source": [
        "#### Chart - 2"
      ],
      "metadata": {
        "id": "KSlN3yHqYklG"
      }
    },
    {
      "cell_type": "code",
      "source": [
        "# Percentage of Movies and TV Shows in the dataset\n",
        "plt.figure(figsize=(8,8))\n",
        "df['type'].value_counts().plot(kind='pie',autopct='%1.2f%%')\n",
        "plt.title('Movies and TV Shows in the dataset')"
      ],
      "metadata": {
        "id": "R4YgtaqtYklH"
      },
      "execution_count": null,
      "outputs": []
    },
    {
      "cell_type": "markdown",
      "source": [
        "##### 1. Why did you pick the specific chart?"
      ],
      "metadata": {
        "id": "t6dVpIINYklI"
      }
    },
    {
      "cell_type": "markdown",
      "source": [
        "Pie plot is a good way to represent ratio of the values of a column."
      ],
      "metadata": {
        "id": "5aaW0BYyYklI"
      }
    },
    {
      "cell_type": "markdown",
      "source": [
        "##### 2. What is/are the insight(s) found from the chart?"
      ],
      "metadata": {
        "id": "ijmpgYnKYklI"
      }
    },
    {
      "cell_type": "markdown",
      "source": [
        "Netflix has a greater number of movies than TV shows, with 69.14% movies and 30.86% TV shows."
      ],
      "metadata": {
        "id": "PSx9atu2YklI"
      }
    },
    {
      "cell_type": "markdown",
      "source": [
        "#### Chart - 3"
      ],
      "metadata": {
        "id": "EM7whBJCYoAo"
      }
    },
    {
      "cell_type": "code",
      "source": [
        "#Analysing Movies and TV Shows by year  \n",
        "plt.figure(figsize=(12,5))      \n",
        "moviesByYear = df[df['type']=='Movie']['release_year'].value_counts().sort_index(ascending=False)\n",
        "tvShowsByYear = df[df['type']=='TV Show']['release_year'].value_counts().sort_index(ascending=False)\n",
        "moviesByYear.plot(linewidth=2.5, color='maroon',label=\"Movies\")\n",
        "tvShowsByYear.plot(linewidth=2.5, color='blue',label=\"TV Shows\")\n",
        "plt.xlabel(\"Years\")\n",
        "plt.ylabel(\"Number\")\n",
        "plt.title(\"Production growth by year\");\n",
        "plt.legend()"
      ],
      "metadata": {
        "id": "t6GMdE67YoAp"
      },
      "execution_count": null,
      "outputs": []
    },
    {
      "cell_type": "markdown",
      "source": [
        "##### 1. Why did you pick the specific chart?"
      ],
      "metadata": {
        "id": "fge-S5ZAYoAp"
      }
    },
    {
      "cell_type": "markdown",
      "source": [
        "Line plots are used to show trends and changes over time for a single variable or for multiple variables, and to identify patterns or relationships between them."
      ],
      "metadata": {
        "id": "5dBItgRVYoAp"
      }
    },
    {
      "cell_type": "markdown",
      "source": [
        "##### 2. What is/are the insight(s) found from the chart?"
      ],
      "metadata": {
        "id": "85gYPyotYoAp"
      }
    },
    {
      "cell_type": "markdown",
      "source": [
        "Production of movies started mainly started from 2000's and TV shows were mainly produced from the year 2008."
      ],
      "metadata": {
        "id": "4jstXR6OYoAp"
      }
    },
    {
      "cell_type": "markdown",
      "source": [
        "#### Chart - 4"
      ],
      "metadata": {
        "id": "4Of9eVA-YrdM"
      }
    },
    {
      "cell_type": "code",
      "source": [
        "#Bivariate analyses on top 10 countries with most content\n",
        "plt.figure(figsize=(15,5))\n",
        "sns.countplot(x=df['country'],order=df['country'].value_counts().index[0:10],hue=df['type'], palette='viridis')\n",
        "plt.xticks(rotation=40)\n",
        "plt.title('Top 10 countries with most content', fontsize=15, fontweight='bold')"
      ],
      "metadata": {
        "id": "irlUoxc8YrdO"
      },
      "execution_count": null,
      "outputs": []
    },
    {
      "cell_type": "markdown",
      "source": [
        "##### 1. Why did you pick the specific chart?"
      ],
      "metadata": {
        "id": "iky9q4vBYrdO"
      }
    },
    {
      "cell_type": "markdown",
      "source": [
        "Bar plots are useful for displaying and comparing categorical data, especially when the categories are discrete and easy to understand. They are commonly used to show counts or percentages of occurrences.\n",
        "\n",
        "Here we want to compare which are top 10 countries producing more content."
      ],
      "metadata": {
        "id": "aJRCwT6DYrdO"
      }
    },
    {
      "cell_type": "markdown",
      "source": [
        "##### 2. What is/are the insight(s) found from the chart?"
      ],
      "metadata": {
        "id": "F6T5p64dYrdO"
      }
    },
    {
      "cell_type": "markdown",
      "source": [
        "USA has highest number of Films and TV-shows, but in India Films are made on a large scale as compared to TV-shows followed by UK, Japan, South Korea and so on."
      ],
      "metadata": {
        "id": "Xx8WAJvtYrdO"
      }
    },
    {
      "cell_type": "markdown",
      "source": [
        "#### Chart - 5"
      ],
      "metadata": {
        "id": "bamQiAODYuh1"
      }
    },
    {
      "cell_type": "code",
      "source": [
        "#Analysing top10 genre of the movies\n",
        "movies=df[df['type']=='Movie']\n",
        "plt.figure(figsize=(14,6))\n",
        "plt.title('Top10 Genre of Movies',fontweight=\"bold\")\n",
        "sns.countplot(y=movies['listed_in'],data=movies,order=movies['listed_in'].value_counts().index[0:10],palette=\"cubehelix\")"
      ],
      "metadata": {
        "id": "TIJwrbroYuh3"
      },
      "execution_count": null,
      "outputs": []
    },
    {
      "cell_type": "markdown",
      "source": [
        "##### 1. Why did you pick the specific chart?"
      ],
      "metadata": {
        "id": "QHF8YVU7Yuh3"
      }
    },
    {
      "cell_type": "markdown",
      "source": [
        "A countplot is a specific type of bar plot that displays the number of occurrences of each category in a categorical dataset. It is useful for visualizing frequency distributions and identifying the most common categories in the data."
      ],
      "metadata": {
        "id": "dcxuIMRPYuh3"
      }
    },
    {
      "cell_type": "markdown",
      "source": [
        "##### 2. What is/are the insight(s) found from the chart?"
      ],
      "metadata": {
        "id": "GwzvFGzlYuh3"
      }
    },
    {
      "cell_type": "markdown",
      "source": [
        "The entertainment industry produces a variety of popular genres, with documentaries, stand-up comedy, and drama movies and TV shows being among the most prominent. Additionally, there is a significant production of content geared towards children and families, such as kid's TV shows and children & family movies."
      ],
      "metadata": {
        "id": "uyqkiB8YYuh3"
      }
    },
    {
      "cell_type": "markdown",
      "source": [
        "##### 3. Will the gained insights help creating a positive business impact? \n",
        "Are there any insights that lead to negative growth? Justify with specific reason."
      ],
      "metadata": {
        "id": "qYpmQ266Yuh3"
      }
    },
    {
      "cell_type": "markdown",
      "source": [
        "From the above plot we can see that documentaries, stand-up comedy, and drama movies and TV shows genre is producing in high number, so we should create more drama if audience love it."
      ],
      "metadata": {
        "id": "_WtzZ_hCYuh4"
      }
    },
    {
      "cell_type": "markdown",
      "source": [
        "#### Chart - 6"
      ],
      "metadata": {
        "id": "OH-pJp9IphqM"
      }
    },
    {
      "cell_type": "code",
      "source": [
        "#Bivariate analyses on Movies and TV Shows by month \n",
        "plt.figure(figsize=(15,6))\n",
        "p = sns.countplot(x='month_added', hue='type', data=df, palette=\"cubehelix\")\n",
        "for i in p.patches:\n",
        "  p.annotate(format(i.get_height(), '.0f'), (i.get_x() + i.get_width() / 2., i.get_height()+5), ha = 'center', va = 'center')"
      ],
      "metadata": {
        "id": "kuRf4wtuphqN"
      },
      "execution_count": null,
      "outputs": []
    },
    {
      "cell_type": "markdown",
      "source": [
        "##### 1. Why did you pick the specific chart?"
      ],
      "metadata": {
        "id": "bbFf2-_FphqN"
      }
    },
    {
      "cell_type": "markdown",
      "source": [
        "Bar plots are useful for displaying and comparing categorical data, especially when the categories are discrete and easy to understand. They are commonly used to show counts or percentages of occurrences.\n",
        "\n",
        "Here we want to compare in which months TV shows and movies are released."
      ],
      "metadata": {
        "id": "loh7H2nzphqN"
      }
    },
    {
      "cell_type": "markdown",
      "source": [
        "##### 2. What is/are the insight(s) found from the chart?"
      ],
      "metadata": {
        "id": "_ouA3fa0phqN"
      }
    },
    {
      "cell_type": "markdown",
      "source": [
        "Here we can derive an analysis that content is mainly released from October to January."
      ],
      "metadata": {
        "id": "VECbqPI7phqN"
      }
    },
    {
      "cell_type": "markdown",
      "source": [
        "##### 3. Will the gained insights help creating a positive business impact? \n",
        "Are there any insights that lead to negative growth? Justify with specific reason."
      ],
      "metadata": {
        "id": "Seke61FWphqN"
      }
    },
    {
      "cell_type": "markdown",
      "source": [
        "Producer should work more on content releasing on last quarter of the year. Because there is holiday in these months and audience are free for entertainment."
      ],
      "metadata": {
        "id": "DW4_bGpfphqN"
      }
    },
    {
      "cell_type": "markdown",
      "source": [
        "#### Chart - 7"
      ],
      "metadata": {
        "id": "PIIx-8_IphqN"
      }
    },
    {
      "cell_type": "code",
      "source": [
        "#Analysing top 10 genre of the content created\n",
        "plt.figure(figsize=(15,6))\n",
        "plt.title('Top 10 Genre of Content')\n",
        "sns.countplot(y=df['listed_in'], order=df['listed_in'].value_counts().index[0:10], palette=\"cubehelix\")"
      ],
      "metadata": {
        "id": "lqAIGUfyphqO"
      },
      "execution_count": null,
      "outputs": []
    },
    {
      "cell_type": "code",
      "source": [
        "#Analysing top 10 genre of the tv_shows\n",
        "tv_shows=df[df['type']=='TV Show']\n",
        "plt.figure(figsize=(14,6))\n",
        "plt.title('Top10 Genre of tv_shows',fontweight=\"bold\")\n",
        "sns.countplot(y=tv_shows['listed_in'],data=tv_shows,order=tv_shows['listed_in'].value_counts().index[0:10],palette=\"cubehelix\")"
      ],
      "metadata": {
        "id": "GWLqlrZVatrg"
      },
      "execution_count": null,
      "outputs": []
    },
    {
      "cell_type": "markdown",
      "source": [
        "##### 1. Why did you pick the specific chart?"
      ],
      "metadata": {
        "id": "t27r6nlMphqO"
      }
    },
    {
      "cell_type": "markdown",
      "source": [
        "A countplot is a specific type of bar plot that displays the number of occurrences of each category in a categorical dataset. It is useful for visualizing frequency distributions and identifying the most common categories in the data."
      ],
      "metadata": {
        "id": "iv6ro40sphqO"
      }
    },
    {
      "cell_type": "markdown",
      "source": [
        "##### 2. What is/are the insight(s) found from the chart?"
      ],
      "metadata": {
        "id": "r2jJGEOYphqO"
      }
    },
    {
      "cell_type": "markdown",
      "source": [
        "The entertainment industry produces a variety of popular genres, including drama, comedy, documentaries, action and adventure, and TV shows. There is also a significant production of content aimed at children and families, such as kid's TV shows and children & family movies.\n",
        "\n",
        "Among TV shows, Kids TV and international TV shows are the most numerous genre."
      ],
      "metadata": {
        "id": "Po6ZPi4hphqO"
      }
    },
    {
      "cell_type": "markdown",
      "source": [
        "#### Chart - 8"
      ],
      "metadata": {
        "id": "BZR9WyysphqO"
      }
    },
    {
      "cell_type": "code",
      "source": [
        "#Visualizing TV Shows released seasons \n",
        "plt.figure(figsize=(15,6))\n",
        "plt.title(\"Distribution of TV Shows duration\")\n",
        "p = sns.barplot(x = df[df['type']=='TV Show']['duration'].value_counts().index, y = df[df['type']=='TV Show']['duration'].value_counts().values)\n",
        "for i in p.patches:\n",
        "  p.annotate(format(i.get_height(), '.0f'), (i.get_x() + i.get_width() / 2., i.get_height()+10), ha = 'center', va = 'center')"
      ],
      "metadata": {
        "id": "TdPTWpAVphqO"
      },
      "execution_count": null,
      "outputs": []
    },
    {
      "cell_type": "markdown",
      "source": [
        "##### 1. Why did you pick the specific chart?"
      ],
      "metadata": {
        "id": "jj7wYXLtphqO"
      }
    },
    {
      "cell_type": "markdown",
      "source": [
        "Bar plots are useful for displaying and comparing categorical data, especially when the categories are discrete and easy to understand. They are commonly used to show counts or percentages of occurrences."
      ],
      "metadata": {
        "id": "Ob8u6rCTphqO"
      }
    },
    {
      "cell_type": "markdown",
      "source": [
        "##### 2. What is/are the insight(s) found from the chart?"
      ],
      "metadata": {
        "id": "eZrbJ2SmphqO"
      }
    },
    {
      "cell_type": "markdown",
      "source": [
        "Here we can conclude that most of the TV Shows launch their 1st Season and if that is hit only then next seasons are planned and created. Therefore we can see there are almost 1600 1st Season count and only 380 2nd Season.   "
      ],
      "metadata": {
        "id": "mZtgC_hjphqO"
      }
    },
    {
      "cell_type": "markdown",
      "source": [
        "#### Chart - 9"
      ],
      "metadata": {
        "id": "YJ55k-q6phqO"
      }
    },
    {
      "cell_type": "code",
      "source": [
        "# Top actors for TV shows\n",
        "plt.figure(figsize=(10,5))\n",
        "df[~(df['cast']=='Unknown') & (df['type']=='TV Show')].cast.value_counts().nlargest(10).plot(kind='barh')\n",
        "plt.title('Actors who have appeared in highest number of TV shows')"
      ],
      "metadata": {
        "id": "B2aS4O1ophqO"
      },
      "execution_count": null,
      "outputs": []
    },
    {
      "cell_type": "markdown",
      "source": [
        "##### 1. Why did you pick the specific chart?"
      ],
      "metadata": {
        "id": "gCFgpxoyphqP"
      }
    },
    {
      "cell_type": "markdown",
      "source": [
        "A countplot is a specific type of bar plot that displays the number of occurrences of each category in a categorical dataset. It is useful for visualizing frequency distributions and identifying the most common categories in the data.\n",
        "\n",
        "I used this chart for analysing Top actors of TV shows"
      ],
      "metadata": {
        "id": "TVxDimi2phqP"
      }
    },
    {
      "cell_type": "markdown",
      "source": [
        "##### 2. What is/are the insight(s) found from the chart?"
      ],
      "metadata": {
        "id": "OVtJsKN_phqQ"
      }
    },
    {
      "cell_type": "markdown",
      "source": [
        "david attenborough has been appeared in more than 12 tv shows."
      ],
      "metadata": {
        "id": "ngGi97qjphqQ"
      }
    },
    {
      "cell_type": "markdown",
      "source": [
        "#### Chart - 10"
      ],
      "metadata": {
        "id": "U2RJ9gkRphqQ"
      }
    },
    {
      "cell_type": "code",
      "execution_count": null,
      "metadata": {
        "id": "VIKnX8Nfm-q5"
      },
      "outputs": [],
      "source": [
        "# Fill missing values in cast with no cast\n",
        "df['cast'].fillna(value='No Cast',inplace=True)\n",
        "#converting cast feature into a cast list\n",
        "df['cast'] = df['cast'].apply(lambda x: x.split(','))"
      ]
    },
    {
      "cell_type": "code",
      "execution_count": null,
      "metadata": {
        "id": "fbEPjykMlVUQ"
      },
      "outputs": [],
      "source": [
        "#writing a function to make a dictionary of actors and the count of movies or Tv shows they have appeared in.\n",
        "def actor_count(df):\n",
        "    from collections import defaultdict\n",
        "    actor_dict = defaultdict(int)\n",
        "\n",
        "    for actors in df['cast']:\n",
        "        for actor in actors:\n",
        "            actor_dict[actor.strip()] += 1\n",
        "\n",
        "    return actor_dict\n",
        "\n",
        "#Calling the function\n",
        "actor_counts = actor_count(df)"
      ]
    },
    {
      "cell_type": "code",
      "execution_count": null,
      "metadata": {
        "id": "uwFUDrslqCMB"
      },
      "outputs": [],
      "source": [
        "#Sorting the tuples in the dictionary\n",
        "top_20_actors = sorted(actor_counts.items(), key=lambda x: x[1], reverse=True)[1:20]\n",
        "#Converting the tuple list into a dict\n",
        "actor_dict = {actor: count for actor, count in top_20_actors}\n",
        "#Creating a dataframe of the dict\n",
        "topActors = pd.DataFrame({'Actor': list(actor_dict.keys()), 'Number of Films': list(actor_dict.values())})"
      ]
    },
    {
      "cell_type": "code",
      "execution_count": null,
      "metadata": {
        "id": "5A1G0629trU5"
      },
      "outputs": [],
      "source": [
        "#plotting the top Actors dataframe as a barchart\n",
        "plt.figure(figsize=(15,6))\n",
        "sns.barplot(x='Actor', y='Number of Films', data=topActors, palette=\"cubehelix\")\n",
        "plt.xticks(rotation=90)\n",
        "plt.show()"
      ]
    },
    {
      "cell_type": "markdown",
      "source": [
        "##### 2. What is/are the insight(s) found from the chart?"
      ],
      "metadata": {
        "id": "tgIPom80phqQ"
      }
    },
    {
      "cell_type": "markdown",
      "source": [
        "Based on the data, Anupam Kher tops the list with the most number of films, having acted in 42 productions. Shah Rukh Khan and Naseeruddin Shah come in close behind, having featured in 35 and 30 films respectively. Om Puri also appears on the list, having acted in 30 films. These actors have solidified their standing as notable figures in the film industry, having built up an impressive body of work."
      ],
      "metadata": {
        "id": "Qp13pnNzphqQ"
      }
    },
    {
      "cell_type": "markdown",
      "source": [
        "#### Chart - 11"
      ],
      "metadata": {
        "id": "x-EpHcCOp1ci"
      }
    },
    {
      "cell_type": "code",
      "source": [
        "# Top directors w.r.t to films directed\n",
        "plt.figure(figsize=(15,5))\n",
        "sns.barplot(x=df['director'].value_counts()[:10].index, y=df['director'].value_counts()[:10].values, palette=\"cubehelix\")\n",
        "plt.xticks(rotation=50)"
      ],
      "metadata": {
        "id": "mAQTIvtqp1cj"
      },
      "execution_count": null,
      "outputs": []
    },
    {
      "cell_type": "markdown",
      "source": [
        "##### 2. What is/are the insight(s) found from the chart?"
      ],
      "metadata": {
        "id": "8zGJKyg5p1ck"
      }
    },
    {
      "cell_type": "markdown",
      "source": [
        "Raúl Campos and Jan Suter have directed the highest number of films i.e. 18 films. Marcus Raboy is close behind with 16 films. Jay Karas and Cathy Garcia-Molina have directed 14 and 13 films respectively."
      ],
      "metadata": {
        "id": "ZYdMsrqVp1ck"
      }
    },
    {
      "cell_type": "markdown",
      "source": [
        "#### Chart - 12"
      ],
      "metadata": {
        "id": "n3dbpmDWp1ck"
      }
    },
    {
      "cell_type": "code",
      "source": [
        "#Comparing 'release_year' and 'year' columns and assigning Yes / No as a value\n",
        "df['originals'] = np.where(df['release_year'] == df['year_added'], 'Yes', 'No')\n",
        "# pie plot showing percentage of originals and others in movies\n",
        "fig, ax = plt.subplots(figsize=(5,5))\n",
        "explode = (0, 0.1)\n",
        "ax.pie(df['originals'].value_counts(), explode=explode, autopct='%.2f%%', labels= ['Others', 'Originals'],\n",
        "       shadow=True, startangle=90, textprops={'color':\"black\", 'fontsize': 20})\n",
        "plt.show()"
      ],
      "metadata": {
        "id": "bwevp1tKp1ck"
      },
      "execution_count": null,
      "outputs": []
    },
    {
      "cell_type": "markdown",
      "source": [
        "##### 2. What is/are the insight(s) found from the chart?"
      ],
      "metadata": {
        "id": "ZWILFDl5p1ck"
      }
    },
    {
      "cell_type": "markdown",
      "source": [
        "36.28 % of content is Netflix original and 63.72 % is produced and released by different modes."
      ],
      "metadata": {
        "id": "x-lUsV2mp1ck"
      }
    },
    {
      "cell_type": "markdown",
      "source": [
        "#### Chart - 13 - Correlation Heatmap"
      ],
      "metadata": {
        "id": "NC_X3p0fY2L0"
      }
    },
    {
      "cell_type": "code",
      "execution_count": null,
      "metadata": {
        "id": "VnfGpWo-4n2o"
      },
      "outputs": [],
      "source": [
        "# Changing the values in the rating column\n",
        "rating_map = {'TV-MA':'Adults',\n",
        "              'R':'Adults',\n",
        "              'PG-13':'Teens',\n",
        "              'TV-14':'Young Adults',\n",
        "              'TV-PG':'Older Kids',\n",
        "              'NR':'Adults',\n",
        "              'TV-G':'Kids',\n",
        "              'TV-Y':'Kids',\n",
        "              'TV-Y7':'Older Kids',\n",
        "              'PG':'Older Kids',\n",
        "              'G':'Kids',\n",
        "              'NC-17':'Adults',\n",
        "              'TV-Y7-FV':'Older Kids',\n",
        "              'UR':'Adults'}\n",
        "\n",
        "df['rating'].replace(rating_map, inplace = True)\n",
        "df['rating'].unique()"
      ]
    },
    {
      "cell_type": "code",
      "execution_count": null,
      "metadata": {
        "id": "ynsuACwx4UXz"
      },
      "outputs": [],
      "source": [
        "#Adding a count column as 1 so as to group the countries and get a total count for the corresponding country \n",
        "df['count'] = 1\n",
        "#Getting the top 10 countries by count\n",
        "data = df.groupby('country')[['country','count']].sum().sort_values(by='count',ascending=False).reset_index()[:10]\n",
        "data = data['country']\n",
        "#Filtering the original dataframe based on the values of the \"country\" column.\n",
        "df_heatmap = df.loc[df['country'].isin(data)]\n",
        "df_heatmap = pd.crosstab(df_heatmap['country'], df_heatmap['rating'],normalize = \"index\").T\n",
        "df_heatmap"
      ]
    },
    {
      "cell_type": "markdown",
      "metadata": {
        "id": "PD3gWkApEFSX"
      },
      "source": [
        "Note: 'pd.crosstab' is a Pandas function used to create a cross-tabulation table from two or more categorical variables. It is used to calculate the number of observations for each combination of categories in the variables. It returns a DataFrame that displays the results of the cross-tabulation in a tabular format."
      ]
    },
    {
      "cell_type": "code",
      "execution_count": null,
      "metadata": {
        "id": "moiR15zA4o8_"
      },
      "outputs": [],
      "source": [
        "fig, ax = plt.subplots(1, 1, figsize=(12, 12))\n",
        "#Getting list of top contries by crosstab matrix\n",
        "country_order = df_heatmap.columns.tolist()\n",
        "#Getting list of age order by crosstab matrix\n",
        "age_order = df_heatmap.index.tolist()\n",
        "# Plotting the heatmap\n",
        "sns.heatmap(df_heatmap.loc[age_order,country_order],square=True, linewidth=2.5,cbar=False,\n",
        "            annot=True, cmap = 'Blues')"
      ]
    },
    {
      "cell_type": "markdown",
      "source": [
        "##### 1. Why did you pick the specific chart?"
      ],
      "metadata": {
        "id": "Mh4v6_6N0pse"
      }
    },
    {
      "cell_type": "markdown",
      "source": [
        "Heatmaps are used to visually represent data using colors to show the intensity of values in a two-dimensional matrix. They are widely used in data analysis to identify patterns, correlations, and anomalies in data sets, and to make data-driven decisions based on the insights gained from the visualization."
      ],
      "metadata": {
        "id": "LGkPq4Nh0jNY"
      }
    },
    {
      "cell_type": "markdown",
      "source": [
        "##### 2. What is/are the insight(s) found from the chart?"
      ],
      "metadata": {
        "id": "thmmcKw20NtS"
      }
    },
    {
      "cell_type": "markdown",
      "metadata": {
        "id": "I4McXJaFEO56"
      },
      "source": [
        "The top 5 highest percentage values represent the most dominant rating category in each country. For example, in Spain the highest percentage is 84% for Adults rating, followed by 4.5% for Older Kids, 9% for Young Adults, 0.75% for Teens and 2.2% for Kids.\n",
        "\n",
        "The US and UK are closely aligned with their Netflix target ages"
      ]
    },
    {
      "cell_type": "markdown",
      "source": [
        "#### Chart - 15 - Pair Plot "
      ],
      "metadata": {
        "id": "q29F0dvdveiT"
      }
    },
    {
      "cell_type": "code",
      "source": [
        "# Pair Plot visualization code\n",
        "sns.pairplot(df)"
      ],
      "metadata": {
        "id": "o58-TEIhveiU"
      },
      "execution_count": null,
      "outputs": []
    },
    {
      "cell_type": "markdown",
      "source": [
        "##### 1. Why did you pick the specific chart?"
      ],
      "metadata": {
        "id": "EXh0U9oCveiU"
      }
    },
    {
      "cell_type": "markdown",
      "source": [
        "A pair plot is a scatterplot matrix that displays the pairwise relationships between variables in a dataset. It allows for the visualization of the relationships between multiple variables simultaneously, aiding in the identification of patterns and trends in the data."
      ],
      "metadata": {
        "id": "eMmPjTByveiU"
      }
    },
    {
      "cell_type": "markdown",
      "source": [
        "## ***6. Feature Engineering & Data Pre-processing***"
      ],
      "metadata": {
        "id": "yLjJCtPM0KBk"
      }
    },
    {
      "cell_type": "markdown",
      "source": [
        "### 1. Handling Missing Values"
      ],
      "metadata": {
        "id": "xiyOF9F70UgQ"
      }
    },
    {
      "cell_type": "code",
      "source": [
        "# Handling Missing Values & Missing Value Imputation\n",
        "# We have earlier dealt with some missing values in some features for better data visualization so now again see which variables has missing values.\n",
        "df.isnull().sum()"
      ],
      "metadata": {
        "id": "iRsAHk1K0fpS"
      },
      "execution_count": null,
      "outputs": []
    },
    {
      "cell_type": "markdown",
      "source": [
        "So we have missing values in directors mostly and some values missing in rating, monthly_added and year_added."
      ],
      "metadata": {
        "id": "jxD3cUUA-wgZ"
      }
    },
    {
      "cell_type": "code",
      "source": [
        "# Let's fill missing values in rating with mode\n",
        "df['rating'] = df['rating'].fillna(df['rating'].mode()[0])"
      ],
      "metadata": {
        "id": "zeAa0J3SAM0I"
      },
      "execution_count": null,
      "outputs": []
    },
    {
      "cell_type": "code",
      "source": [
        "#'year_added' and 'month_added' contains small number of null values so we will drop those particular observations\n",
        "df.dropna(subset=['month_added', 'year_added', 'date_added'], inplace=True)"
      ],
      "metadata": {
        "id": "RXa55fN3wstB"
      },
      "execution_count": null,
      "outputs": []
    },
    {
      "cell_type": "code",
      "source": [
        "# Filling null values with blank spaces\n",
        "df.fillna('',inplace=True)"
      ],
      "metadata": {
        "id": "RM9HjhA3C1B_"
      },
      "execution_count": null,
      "outputs": []
    },
    {
      "cell_type": "code",
      "source": [
        "df.isnull().sum()"
      ],
      "metadata": {
        "id": "RzCm2tbnC3uS"
      },
      "execution_count": null,
      "outputs": []
    },
    {
      "cell_type": "code",
      "source": [
        "#Combining all attributes for better clustering\n",
        "df['cast'] = df['cast'].apply(lambda x: ' '.join(x))\n",
        "df['clustering'] = (df['director'] + ' ' + df['cast'] +' ' + df['country'] +' ' + df['listed_in'] +' ' + df['description'])"
      ],
      "metadata": {
        "id": "7izKIktvD9IJ"
      },
      "execution_count": null,
      "outputs": []
    },
    {
      "cell_type": "code",
      "source": [
        "df.head()"
      ],
      "metadata": {
        "id": "ZUWTlWhuFEez"
      },
      "execution_count": null,
      "outputs": []
    },
    {
      "cell_type": "code",
      "source": [
        "df['clustering'][1]"
      ],
      "metadata": {
        "id": "2_wb_KkZFIyK"
      },
      "execution_count": null,
      "outputs": []
    },
    {
      "cell_type": "markdown",
      "metadata": {
        "id": "sB6qP6xDEIf_"
      },
      "source": [
        "###Removing StopWords & White spaces"
      ]
    },
    {
      "cell_type": "code",
      "source": [
        "# extracting the stopwords from nltk library\n",
        "import nltk\n",
        "from nltk.corpus import stopwords\n",
        "sw = stopwords.words('english')\n",
        "# displaying the stopwords\n",
        "np.array(sw)\n",
        "\n",
        "\n",
        "# function to remove stop words\n",
        "def stopwords(text):\n",
        "    '''a function for removing the stopword'''\n",
        "    # removing the stop words and lowercasing the selected words\n",
        "    text = [word.lower() for word in text.split() if word.lower() not in sw]\n",
        "    # joining the list of words with space separator\n",
        "    return \" \".join(text)\n"
      ],
      "metadata": {
        "id": "R1AGxGKUEIf_"
      },
      "execution_count": null,
      "outputs": []
    },
    {
      "cell_type": "code",
      "source": [
        "# Removing stop words\n",
        "df['clustering'] = df['clustering'].apply(stopwords)\n",
        "\n",
        "\n",
        "df['clustering'][1]"
      ],
      "metadata": {
        "id": "Eq4LlhRKEIf_"
      },
      "execution_count": null,
      "outputs": []
    },
    {
      "cell_type": "markdown",
      "source": [
        "### Removing Non Ascii"
      ],
      "metadata": {
        "id": "DKT79_nmEIf_"
      }
    },
    {
      "cell_type": "code",
      "source": [
        "def remove_non_ascii(words):\n",
        "    \"\"\"Function to remove non-ASCII characters\"\"\"\n",
        "    new_words = []\n",
        "    for word in words:\n",
        "        new_word = unicodedata.normalize('NFKD', word).encode('ascii', 'ignore').decode('utf-8', 'ignore')\n",
        "        new_words.append(new_word)\n",
        "    return new_words"
      ],
      "metadata": {
        "id": "Ztjray0tEIf_"
      },
      "execution_count": null,
      "outputs": []
    },
    {
      "cell_type": "markdown",
      "source": [
        "### Removing Punctuations"
      ],
      "metadata": {
        "id": "8n3OXhghEIgA"
      }
    },
    {
      "cell_type": "code",
      "source": [
        "def remove_punctuation(text):\n",
        "    '''a function for removing punctuation'''\n",
        "    translator = str.maketrans('', '', string.punctuation)\n",
        "    # return the text stripped of punctuation marks\n",
        "    return text.translate(translator)\n",
        "\n",
        "\n",
        "# Removing punctuation marks\n",
        "df['clustering'] = df['clustering'].apply(remove_punctuation)\n",
        "\n",
        "\n",
        "df['clustering'][1]"
      ],
      "metadata": {
        "id": "jElGP_TiEIgA"
      },
      "execution_count": null,
      "outputs": []
    },
    {
      "cell_type": "markdown",
      "source": [
        "### Removing URLs and words contain digits."
      ],
      "metadata": {
        "id": "dBWw7c-BEIgA"
      }
    },
    {
      "cell_type": "code",
      "source": [
        "def remove_non_ascii(words):\n",
        "    \"\"\"Function to remove non-ASCII characters\"\"\"\n",
        "    new_words = []\n",
        "    for word in words:\n",
        "        new_word = unicodedata.normalize('NFKD', word).encode('ascii', 'ignore').decode('utf-8', 'ignore')\n",
        "        new_words.append(new_word)\n",
        "    return new_words\n",
        "\n",
        "\n",
        "# remove non-ascii characters\n",
        "df['clustering'] = remove_non_ascii(df['clustering'])\n",
        "\n",
        "\n",
        "df['clustering'][1]"
      ],
      "metadata": {
        "id": "_ACv7aXdEIgA"
      },
      "execution_count": null,
      "outputs": []
    },
    {
      "cell_type": "markdown",
      "source": [
        "### Rephrase Text"
      ],
      "metadata": {
        "id": "t_OWgU8oEIgA"
      }
    },
    {
      "cell_type": "code",
      "source": [
        "def lemmatize_verbs(words):\n",
        "    \"\"\"Lemmatize verbs in list of tokenized words\"\"\"\n",
        "    lemmatizer = WordNetLemmatizer()\n",
        "    lemmas = []\n",
        "    for word in words:\n",
        "        lemma = lemmatizer.lemmatize(word, pos='v')\n",
        "        lemmas.append(lemma)\n",
        "    return lemmas\n",
        "\n",
        "\n",
        "\n",
        "# Lemmatization\n",
        "df['clustering'] = lemmatize_verbs(df['clustering'])\n",
        "\n",
        "\n",
        "df['clustering'][1]"
      ],
      "metadata": {
        "id": "C8cefmqOEIgA"
      },
      "execution_count": null,
      "outputs": []
    },
    {
      "cell_type": "markdown",
      "source": [
        "#### What all missing value imputation techniques have you used and why did you use those techniques?"
      ],
      "metadata": {
        "id": "7wuGOrhz0itI"
      }
    },
    {
      "cell_type": "markdown",
      "source": [
        "I used mode technique to fill missing values in some features, becuase most occuring values should be use to fill missing values in our case. \n",
        "\n",
        "We fill blank and unknown value too in some features because in those features we can't fill values with mode and mean. It will make our data biased."
      ],
      "metadata": {
        "id": "1ixusLtI0pqI"
      }
    },
    {
      "cell_type": "code",
      "source": [
        "# jorge michel grau demin bichir hctor bonilla oscar serrano azalia ortiz octavio michel carmen beato mexico dramas international movies devastating earthquake hits mexico city trapped survivors walks life wait rescued trying desperately stay alive"
      ],
      "metadata": {
        "id": "8s7SKMyvhR2H"
      },
      "execution_count": null,
      "outputs": []
    },
    {
      "cell_type": "markdown",
      "metadata": {
        "id": "_YPFLx_NnFCx"
      },
      "source": [
        "###Lemmatization\n",
        "\n",
        "Lemmatization is the process of reducing a word to its base or root form. Lemmatization takes into account the context and part of speech of the word, and uses a dictionary or a morphological analyzer to find the base form of the word."
      ]
    },
    {
      "cell_type": "code",
      "execution_count": null,
      "metadata": {
        "id": "BJP-p8D4nEiE"
      },
      "outputs": [],
      "source": [
        "# function to lemmatize the corpus\n",
        "def lemmatize_verbs(words):\n",
        "    lemmatizer = WordNetLemmatizer()\n",
        "    lemmas = []\n",
        "    for word in words:\n",
        "        lemma = lemmatizer.lemmatize(word, pos='v')\n",
        "        lemmas.append(lemma)\n",
        "    return lemmas"
      ]
    },
    {
      "cell_type": "code",
      "execution_count": null,
      "metadata": {
        "id": "f3PT9qXnrTby"
      },
      "outputs": [],
      "source": [
        "# Lemmatizing the clustering column\n",
        "df['clustering'] = lemmatize_verbs(df['clustering'])"
      ]
    },
    {
      "cell_type": "code",
      "execution_count": null,
      "metadata": {
        "id": "S2D74INRewzL"
      },
      "outputs": [],
      "source": [
        "df['clustering'][1]"
      ]
    },
    {
      "cell_type": "markdown",
      "metadata": {
        "id": "Z5Bo0BKe03Jz"
      },
      "source": [
        "###TF - IDF Vectorization"
      ]
    },
    {
      "cell_type": "code",
      "execution_count": null,
      "metadata": {
        "id": "qSmK7k5u92q9"
      },
      "outputs": [],
      "source": [
        "# Initialize the TfidfVectorizer\n",
        "vectorizer = TfidfVectorizer(max_features = 20000)\n",
        "# Use the fit_transform method to transform the clustering column into a TF-IDF representation\n",
        "tfidf_matrix = vectorizer.fit_transform(df['clustering'])"
      ]
    },
    {
      "cell_type": "code",
      "execution_count": null,
      "metadata": {
        "id": "S7nAKaW2ff6d"
      },
      "outputs": [],
      "source": [
        "tfidf_matrix.shape"
      ]
    },
    {
      "cell_type": "code",
      "execution_count": null,
      "metadata": {
        "id": "g0YFfnY3gsO8"
      },
      "outputs": [],
      "source": [
        "X = tfidf_matrix.toarray()\n",
        "X"
      ]
    },
    {
      "cell_type": "code",
      "source": [
        "df"
      ],
      "metadata": {
        "id": "efNEsJEPuAsk"
      },
      "execution_count": null,
      "outputs": []
    },
    {
      "cell_type": "markdown",
      "metadata": {
        "id": "ZShBcISC5zt4"
      },
      "source": [
        "####Note:\n",
        "TfidfVectorizer is used to convert a collection of raw text documents to a matrix of TF-IDF features. The goal of using TF-IDF instead of the raw frequencies of occurrence of a token in a given document is to scale down the impact of tokens that occur very frequently in a given corpus and that are hence empirically less informative than features that occur in a small fraction of the training corpus.\n"
      ]
    },
    {
      "cell_type": "markdown",
      "metadata": {
        "id": "Z9Uo4lgKkAsy"
      },
      "source": [
        "###Dimensionality Reduction using PCA"
      ]
    },
    {
      "cell_type": "code",
      "execution_count": null,
      "metadata": {
        "id": "fGoCBw9QexJW"
      },
      "outputs": [],
      "source": [
        "# using PCA to reduce dimensionality\n",
        "pca = PCA(random_state=40)\n",
        "pca.fit(X)"
      ]
    },
    {
      "cell_type": "code",
      "execution_count": null,
      "metadata": {
        "id": "Eqt_9VR-kJkT"
      },
      "outputs": [],
      "source": [
        "# Explained variance for different number of components\n",
        "plt.figure(figsize=(10,5))\n",
        "plt.plot(np.cumsum(pca.explained_variance_ratio_))\n",
        "plt.title('PCA - Cumulative explained variance vs number of components')\n",
        "plt.xlabel('number of components')\n",
        "plt.ylabel('cumulative explained variance')"
      ]
    },
    {
      "cell_type": "markdown",
      "source": [
        "### 8. Data Splitting"
      ],
      "metadata": {
        "id": "BhH2vgX9EjGr"
      }
    },
    {
      "cell_type": "code",
      "execution_count": null,
      "metadata": {
        "id": "c6Zt7yHwnaCT"
      },
      "outputs": [],
      "source": [
        "# Calculate the cumulative sum of explained variances\n",
        "cumulative_sum = np.cumsum(pca.explained_variance_ratio_)\n",
        "# Determine the number of components needed to explain at least 80% of the variance\n",
        "n_components = np.argmax(cumulative_sum >= 0.8) + 1\n",
        "# Re-initialize the PCA instance with the determined number of components\n",
        "pca = PCA(n_components=n_components,random_state=40)\n",
        "# Fit the PCA model to the data\n",
        "pca.fit(X)\n",
        "# Transform the data using the fitted PCA model\n",
        "X_reduced = pca.transform(X)"
      ]
    },
    {
      "cell_type": "code",
      "execution_count": null,
      "metadata": {
        "id": "iDkHnhhdnezX"
      },
      "outputs": [],
      "source": [
        "# shape of transformed vectors\n",
        "print(X_reduced.shape)\n",
        "X_reduced"
      ]
    },
    {
      "cell_type": "markdown",
      "source": [
        "Observation: Here we calculate the cumulative sum of explained variances and determine the number of components needed to explain at least 80% of the variance in the data. Finally, we re-initialize the PCA instance with the determined number of components and fit the model to the data again to obtain the reduced representation of the data"
      ],
      "metadata": {
        "id": "jVcTsLictRAZ"
      }
    },
    {
      "cell_type": "markdown",
      "source": [
        "## ***7. ML Model Implementation***"
      ],
      "metadata": {
        "id": "VfCC591jGiD4"
      }
    },
    {
      "cell_type": "markdown",
      "metadata": {
        "id": "Qjng1HIgb-KC"
      },
      "source": [
        "###K-Means Clustering\n",
        "K-Means Clustering is a type of unsupervised learning in machine learning, used for cluster analysis. It partitions data into K number of clusters, where each data point belongs to the cluster with the nearest mean. The algorithm iteratively updates the mean values and the cluster assignments, until the cluster means no longer change or a maximum number of iterations is reached."
      ]
    },
    {
      "cell_type": "markdown",
      "source": [
        "## **ML Model 1: Elbow Method**"
      ],
      "metadata": {
        "id": "Uh0cXstWVg1T"
      }
    },
    {
      "cell_type": "code",
      "execution_count": null,
      "metadata": {
        "id": "L1kso7bYqeGt"
      },
      "outputs": [],
      "source": [
        "# Initialize an empty list to store the Within-Cluster-Sum-of-Squared (WCSS) values\n",
        "wcss = []\n",
        "\n",
        "# Loop over a range of possible number of clusters\n",
        "for i in range(1, 25):\n",
        "    # Initialize a KMeans instance with the specified number of clusters, using the k-means++ initialization method\n",
        "    kmeans = KMeans(n_clusters=i, init='k-means++', max_iter=300, n_init=10, random_state=0)\n",
        "    # Fit the k-means model to the data\n",
        "    kmeans.fit(X_reduced)\n",
        "    # Append the WCSS value for this number of clusters to the list of WCSS values\n",
        "    wcss.append(kmeans.inertia_)\n",
        "\n",
        "# Plot the WCSS values as a function of the number of clusters\n",
        "plt.plot(range(1, 25), wcss)\n",
        "# Add a title, x-axis label, and y-axis label to the plot\n",
        "plt.title('Elbow Method')\n",
        "plt.xlabel('Number of clusters')\n",
        "plt.ylabel('WCSS')\n",
        "\n",
        "# Display the plot\n",
        "plt.show()"
      ]
    },
    {
      "cell_type": "markdown",
      "source": [
        "###Observation\n",
        "Because of high degree of dimensionality in the dataset we can see no relevant elbow point being created in the above graph so we have to consider the silhouette score in this case so as to find a relevant number of clusters."
      ],
      "metadata": {
        "id": "5BrpEw0WpWPx"
      }
    },
    {
      "cell_type": "markdown",
      "source": [
        "## **ML Model 2: Silhouette Score**"
      ],
      "metadata": {
        "id": "Xv81QYgNV21o"
      }
    },
    {
      "cell_type": "code",
      "execution_count": null,
      "metadata": {
        "id": "DHuL_hlqqd2q"
      },
      "outputs": [],
      "source": [
        "# Plotting Silhouette score for different number of clusters\n",
        "range_n_clusters = range(2,25)\n",
        "silhouette_avg = []\n",
        "for num_clusters in range_n_clusters:\n",
        "  # initializing kmeans algo\n",
        "  kmeans = KMeans(n_clusters=num_clusters,init='k-means++',random_state=0)\n",
        "  kmeans.fit(X_reduced)\n",
        "  cluster_labels = kmeans.labels_\n",
        " \n",
        "  # silhouette score\n",
        "  silhouette_avg.append(silhouette_score(X_reduced, cluster_labels))\n",
        "\n",
        "plt.figure(figsize=(10,5))\n",
        "plt.plot(range_n_clusters,silhouette_avg)\n",
        "plt.xlabel('Values of K') \n",
        "plt.ylabel('Silhouette score')\n",
        "plt.title('Silhouette analysis For Optimal k - KMeans clustering')\n",
        "plt.show()"
      ]
    },
    {
      "cell_type": "code",
      "source": [],
      "metadata": {
        "id": "E1bq7JtKMWI7"
      },
      "execution_count": null,
      "outputs": []
    },
    {
      "cell_type": "code",
      "source": [
        "X_reduced.values"
      ],
      "metadata": {
        "id": "JoBIwGmWM-Tg"
      },
      "execution_count": null,
      "outputs": []
    },
    {
      "cell_type": "code",
      "metadata": {
        "id": "GD-7-RDfdYpi"
      },
      "source": [
        "from sklearn import preprocessing\n",
        "# feature_vector=['Recency_log','Frequency_log','Monetary_log']\n",
        "X=X_reduced\n",
        "# scaler=preprocessing.StandardScaler()\n",
        "# X=scaler.fit_transform(X_features)"
      ],
      "execution_count": null,
      "outputs": []
    },
    {
      "cell_type": "code",
      "metadata": {
        "id": "hFNN2SaYxji2"
      },
      "source": [
        "from sklearn.metrics import silhouette_score\n",
        "from sklearn.datasets import make_blobs\n",
        "from sklearn.cluster import KMeans\n",
        "from sklearn.metrics import silhouette_samples, silhouette_score\n",
        "\n",
        "import matplotlib.pyplot as plt\n",
        "import matplotlib.cm as cm\n",
        "import numpy as np\n",
        "\n",
        "range_n_clusters = [2,3,4,5,6,7,8,9,10,11,12,13,14,15]\n",
        "\n",
        "for n_clusters in range_n_clusters:\n",
        "    # Create a subplot with 1 row and 2 columns\n",
        "    fig, (ax1, ax2) = plt.subplots(1, 2)\n",
        "    fig.set_size_inches(18, 7)\n",
        "\n",
        "    # The 1st subplot is the silhouette plot\n",
        "    # The silhouette coefficient can range from -1, 1 but in this example all\n",
        "    # lie within [-0.1, 1]\n",
        "    ax1.set_xlim([-0.1, 1])\n",
        "    # The (n_clusters+1)*10 is for inserting blank space between silhouette\n",
        "    # plots of individual clusters, to demarcate them clearly.\n",
        "    ax1.set_ylim([0, len(X) + (n_clusters + 1) * 10])\n",
        "\n",
        "    # Initialize the clusterer with n_clusters value and a random generator\n",
        "    # seed of 10 for reproducibility.\n",
        "    clusterer = KMeans(n_clusters=n_clusters, random_state=10)\n",
        "    cluster_labels = clusterer.fit_predict(X)\n",
        "\n",
        "    # The silhouette_score gives the average value for all the samples.\n",
        "    # This gives a perspective into the density and separation of the formed\n",
        "    # clusters\n",
        "    silhouette_avg = silhouette_score(X, cluster_labels)\n",
        "    print(\"For n_clusters =\", n_clusters,\n",
        "          \"The average silhouette_score is :\", silhouette_avg)\n",
        "\n",
        "    # Compute the silhouette scores for each sample\n",
        "    sample_silhouette_values = silhouette_samples(X, cluster_labels)\n",
        "\n",
        "    y_lower = 10\n",
        "    for i in range(n_clusters):\n",
        "        # Aggregate the silhouette scores for samples belonging to\n",
        "        # cluster i, and sort them\n",
        "        ith_cluster_silhouette_values = \\\n",
        "            sample_silhouette_values[cluster_labels == i]\n",
        "\n",
        "        ith_cluster_silhouette_values.sort()\n",
        "\n",
        "        size_cluster_i = ith_cluster_silhouette_values.shape[0]\n",
        "        y_upper = y_lower + size_cluster_i\n",
        "\n",
        "        color = cm.nipy_spectral(float(i) / n_clusters)\n",
        "        ax1.fill_betweenx(np.arange(y_lower, y_upper),\n",
        "                          0, ith_cluster_silhouette_values,\n",
        "                          facecolor=color, edgecolor=color, alpha=0.7)\n",
        "\n",
        "        # Label the silhouette plots with their cluster numbers at the middle\n",
        "        ax1.text(-0.05, y_lower + 0.5 * size_cluster_i, str(i))\n",
        "\n",
        "        # Compute the new y_lower for next plot\n",
        "        y_lower = y_upper + 10  # 10 for the 0 samples\n",
        "\n",
        "    ax1.set_title(\"The silhouette plot for the various clusters.\")\n",
        "    ax1.set_xlabel(\"The silhouette coefficient values\")\n",
        "    ax1.set_ylabel(\"Cluster label\")\n",
        "\n",
        "    # The vertical line for average silhouette score of all the values\n",
        "    ax1.axvline(x=silhouette_avg, color=\"red\", linestyle=\"--\")\n",
        "\n",
        "    ax1.set_yticks([])  # Clear the yaxis labels / ticks\n",
        "    ax1.set_xticks([-0.1, 0, 0.2, 0.4, 0.6, 0.8, 1])\n",
        "\n",
        "    # 2nd Plot showing the actual clusters formed\n",
        "    colors = cm.nipy_spectral(cluster_labels.astype(float) /n_clusters)\n",
        "    ax2.scatter(X[:, 0], X[:, 1], marker='.', s=30, lw=0, alpha=0.7,\n",
        "                c=colors, edgecolor='k')\n",
        "\n",
        "    # Labeling the clusters\n",
        "    centers = clusterer.cluster_centers_\n",
        "    # Draw white circles at cluster centers\n",
        "    ax2.scatter(centers[:, 0], centers[:, 1], marker='o',\n",
        "                c=\"white\", alpha=1, s=200, edgecolor='k')\n",
        "\n",
        "    for i, c in enumerate(centers):\n",
        "        ax2.scatter(c[0], c[1], marker='$%d$' % i, alpha=1,\n",
        "                    s=50, edgecolor='k')\n",
        "\n",
        "    ax2.set_title(\"The visualization of the clustered data.\")\n",
        "    ax2.set_xlabel(\"Feature space for the 1st feature\")\n",
        "    ax2.set_ylabel(\"Feature space for the 2nd feature\")\n",
        "    plt.suptitle((\"Silhouette analysis for KMeans clustering on sample data \"\n",
        "                  \"with n_clusters = %d\" % n_clusters),\n",
        "                 fontsize=14, fontweight='bold')\n",
        "\n",
        "plt.show()"
      ],
      "execution_count": null,
      "outputs": []
    },
    {
      "cell_type": "markdown",
      "source": [
        "Observation: Here through Silhouette scores for n number of clusters we can conclude that cluster no 6 has highest silhouette score so we will be feeding 6 as the number of cluster for Agglomerative Hierarchical Clustering."
      ],
      "metadata": {
        "id": "8rsKrqivFaml"
      }
    },
    {
      "cell_type": "markdown",
      "source": [
        "## **ML Model 3: Dendogram**\n",
        "Dendrograms are commonly used in hierarchical clustering to represent the relationships between data points and the clusters they belong to.The dendrogram displays the hierarchy of clusters by showing the relationships between merged clusters and the distances between them."
      ],
      "metadata": {
        "id": "PqvVBtmfsy6-"
      }
    },
    {
      "cell_type": "code",
      "source": [
        "plt.figure(figsize=(10,5))\n",
        "plt.title('Visualising the data')\n",
        "Dendrogram = shc.dendrogram((shc.linkage(X_reduced, method ='ward')))"
      ],
      "metadata": {
        "id": "AkmO2O77smjM"
      },
      "execution_count": null,
      "outputs": []
    },
    {
      "cell_type": "markdown",
      "source": [
        "##**ML Model 4: Agglomerative Hierarchical Clustering**\n",
        "In this analysis the dendrogram is constructed by starting with each data point as a separate cluster and iteratively merging the closest clusters until all data points belong to a single cluster."
      ],
      "metadata": {
        "id": "JQtuKxKUtA21"
      }
    },
    {
      "cell_type": "code",
      "source": [
        "#Fitting our variable in Agglomerative Clusters\n",
        "agg_clustering = AgglomerativeClustering(n_clusters=6, affinity='euclidean', linkage='ward')  \n",
        "agg_clustering.fit(X_reduced)\n",
        "#Predicting using our model\n",
        "y_hc=agg_clustering.fit_predict(X_reduced)"
      ],
      "metadata": {
        "id": "7g9sYOSJs0A8"
      },
      "execution_count": null,
      "outputs": []
    },
    {
      "cell_type": "code",
      "source": [
        "#creating a column where each row is assigned to their separate cluster\n",
        "df['cluster'] = agg_clustering.labels_"
      ],
      "metadata": {
        "id": "BYxOxTzLsTBy"
      },
      "execution_count": null,
      "outputs": []
    },
    {
      "cell_type": "code",
      "source": [
        "#Saving final comparison_df to drive\n",
        "df.to_csv('/content/drive/MyDrive/Colab Notebooks/Module 4/Netflix Movies and TV Shows Clustering - Mohd Zahid Ansari/cluster_df.csv')"
      ],
      "metadata": {
        "id": "DcOcokfgm1Ks"
      },
      "execution_count": null,
      "outputs": []
    },
    {
      "cell_type": "code",
      "source": [
        "#Creating a checkpoint\n",
        "df = pd.read_csv('/content/drive/MyDrive/Colab Notebooks/Module 4/Netflix Movies and TV Shows Clustering - Mohd Zahid Ansari/cluster_df.csv', index_col=[0])\n",
        "df.head()"
      ],
      "metadata": {
        "id": "Y802dVU614kJ"
      },
      "execution_count": null,
      "outputs": []
    },
    {
      "cell_type": "markdown",
      "source": [
        "###Model Visualization and Evaluation"
      ],
      "metadata": {
        "id": "1gis5WQwp4r2"
      }
    },
    {
      "cell_type": "code",
      "source": [
        "#Plotting the cluster count w.r.t type\n",
        "plt.figure(figsize=(10,5))\n",
        "sns.countplot(x='cluster', data=df, hue='type')"
      ],
      "metadata": {
        "id": "fdFz0PvtpqeW"
      },
      "execution_count": null,
      "outputs": []
    },
    {
      "cell_type": "markdown",
      "source": [
        "Observation: Here we can see the clusters formed and visualize the type of content in each particular cluster."
      ],
      "metadata": {
        "id": "WpEHtlS3GGyh"
      }
    },
    {
      "cell_type": "markdown",
      "source": [
        "###Content based Recommender System\n",
        "A content-based recommender system for movies might recommend movies to users based on the actors, directors, genres, and keywords of the movies they have watched. If a user has watched several action movies featuring Tom Cruise, the system might recommend other action movies that star Tom Cruise or similar actors."
      ],
      "metadata": {
        "id": "THbdTgXqm7JH"
      }
    },
    {
      "cell_type": "code",
      "source": [
        "# Create the feature matrix using TfidfVectorizer\n",
        "tfidf = TfidfVectorizer()\n",
        "feature_matrix = tfidf.fit_transform(df['clustering'])\n",
        "# Compute cosine similarity\n",
        "cosine_sim = cosine_similarity(feature_matrix)"
      ],
      "metadata": {
        "id": "Jh4OF6mJ2xUh"
      },
      "execution_count": null,
      "outputs": []
    },
    {
      "cell_type": "code",
      "source": [
        "# Create the recommender system\n",
        "indices = pd.Series(df.index, index=df['title'])\n",
        "\n",
        "#Function to compare the cosine similarity and rank them\n",
        "def recommend_items(title, cosine_sim=cosine_sim):\n",
        "    idx = indices[title]\n",
        "    sim_scores = list(enumerate(cosine_sim[idx]))\n",
        "    sim_scores = sorted(sim_scores, key=lambda x: x[1], reverse=True)\n",
        "    sim_scores = sim_scores[1:11]\n",
        "    item_indices = [i[0] for i in sim_scores]\n",
        "    return df['title'].iloc[item_indices]"
      ],
      "metadata": {
        "id": "j0VwuhhDrqjo"
      },
      "execution_count": null,
      "outputs": []
    },
    {
      "cell_type": "code",
      "source": [
        "# Recommend items for a specific title\n",
        "print(recommend_items('Blood Pact'))"
      ],
      "metadata": {
        "id": "8xKf_vkcrzRO"
      },
      "execution_count": null,
      "outputs": []
    },
    {
      "cell_type": "code",
      "source": [
        "print(recommend_items('Zindagi Kitni Haseen Hay'))"
      ],
      "metadata": {
        "id": "ekh-AO4HtVI2"
      },
      "execution_count": null,
      "outputs": []
    },
    {
      "cell_type": "markdown",
      "source": [
        "Observation: As we can see we gave a specific title i.e. 'Blood Pact' to the recommender system and it gave us the top 10 ranking cosine similar movie titles and their indices in the dataset.\n",
        "\n",
        "We can confirm that the movies recommended are from a horror genre as we gave a horror movie title to the system. Hence we can conclude that our recommender system is giving us relevant results."
      ],
      "metadata": {
        "id": "Sa-jOgfTpgeG"
      }
    },
    {
      "cell_type": "markdown",
      "source": [
        "## ***8.*** ***Future Work (Optional)***"
      ],
      "metadata": {
        "id": "EyNgTHvd2WFk"
      }
    },
    {
      "cell_type": "markdown",
      "source": [
        "### 1. Save the best performing ml model in a pickle file or joblib file format for deployment process.\n"
      ],
      "metadata": {
        "id": "KH5McJBi2d8v"
      }
    },
    {
      "cell_type": "code",
      "source": [
        "# Save the File"
      ],
      "metadata": {
        "id": "bQIANRl32f4J"
      },
      "execution_count": null,
      "outputs": []
    },
    {
      "cell_type": "markdown",
      "source": [
        "### 2. Again Load the saved model file and try to predict unseen data for a sanity check.\n"
      ],
      "metadata": {
        "id": "iW_Lq9qf2h6X"
      }
    },
    {
      "cell_type": "code",
      "source": [
        "# Load the File and predict unseen data."
      ],
      "metadata": {
        "id": "oEXk9ydD2nVC"
      },
      "execution_count": null,
      "outputs": []
    },
    {
      "cell_type": "markdown",
      "source": [
        "### ***Congrats! Your model is successfully created and ready for deployment on a live server for a real user interaction !!!***"
      ],
      "metadata": {
        "id": "-Kee-DAl2viO"
      }
    },
    {
      "cell_type": "markdown",
      "source": [
        "# **Conclusion**"
      ],
      "metadata": {
        "id": "gCX9965dhzqZ"
      }
    },
    {
      "cell_type": "markdown",
      "source": [
        "Write the conclusion here."
      ],
      "metadata": {
        "id": "Fjb1IsQkh3yE"
      }
    },
    {
      "cell_type": "markdown",
      "source": [
        "### ***Hurrah! You have successfully completed your Machine Learning Capstone Project !!!***"
      ],
      "metadata": {
        "id": "gIfDvo9L0UH2"
      }
    },
    {
      "cell_type": "markdown",
      "metadata": {
        "id": "EtmxRjxJak8T"
      },
      "source": [
        "###Removing StopWords & White spaces"
      ]
    },
    {
      "cell_type": "code",
      "source": [
        "# extracting the stopwords from nltk library\n",
        "import nltk\n",
        "from nltk.corpus import stopwords\n",
        "sw = stopwords.words('english')\n",
        "# displaying the stopwords\n",
        "np.array(sw)\n",
        "\n",
        "\n",
        "# function to remove stop words\n",
        "def stopwords(text):\n",
        "    '''a function for removing the stopword'''\n",
        "    # removing the stop words and lowercasing the selected words\n",
        "    text = [word.lower() for word in text.split() if word.lower() not in sw]\n",
        "    # joining the list of words with space separator\n",
        "    return \" \".join(text)\n"
      ],
      "metadata": {
        "id": "e9oG-zigGQh0"
      },
      "execution_count": null,
      "outputs": []
    },
    {
      "cell_type": "code",
      "source": [
        "# Removing stop words\n",
        "df['clustering'] = df['clustering'].apply(stopwords)\n",
        "\n",
        "\n",
        "df['clustering'][1]"
      ],
      "metadata": {
        "id": "pxNM8K9kGg7o"
      },
      "execution_count": null,
      "outputs": []
    },
    {
      "cell_type": "markdown",
      "source": [
        "### Removing Non Ascii"
      ],
      "metadata": {
        "id": "4jekXwHKG9bk"
      }
    },
    {
      "cell_type": "code",
      "source": [
        "def remove_non_ascii(words):\n",
        "    \"\"\"Function to remove non-ASCII characters\"\"\"\n",
        "    new_words = []\n",
        "    for word in words:\n",
        "        new_word = unicodedata.normalize('NFKD', word).encode('ascii', 'ignore').decode('utf-8', 'ignore')\n",
        "        new_words.append(new_word)\n",
        "    return new_words"
      ],
      "metadata": {
        "id": "b9s9B-sqHCBf"
      },
      "execution_count": null,
      "outputs": []
    },
    {
      "cell_type": "markdown",
      "source": [
        "### Removing Punctuations"
      ],
      "metadata": {
        "id": "uSohuyzqHLm3"
      }
    },
    {
      "cell_type": "code",
      "source": [
        "def remove_punctuation(text):\n",
        "    '''a function for removing punctuation'''\n",
        "    translator = str.maketrans('', '', string.punctuation)\n",
        "    # return the text stripped of punctuation marks\n",
        "    return text.translate(translator)\n",
        "\n",
        "\n",
        "# Removing punctuation marks\n",
        "df['clustering'] = df['clustering'].apply(remove_punctuation)\n",
        "\n",
        "\n",
        "df['clustering'][1]"
      ],
      "metadata": {
        "id": "_r_Kyk5FHNfQ"
      },
      "execution_count": null,
      "outputs": []
    },
    {
      "cell_type": "markdown",
      "source": [
        "### Removing URLs and words contain digits."
      ],
      "metadata": {
        "id": "dEohc78yHbgV"
      }
    },
    {
      "cell_type": "code",
      "source": [
        "def remove_non_ascii(words):\n",
        "    \"\"\"Function to remove non-ASCII characters\"\"\"\n",
        "    new_words = []\n",
        "    for word in words:\n",
        "        new_word = unicodedata.normalize('NFKD', word).encode('ascii', 'ignore').decode('utf-8', 'ignore')\n",
        "        new_words.append(new_word)\n",
        "    return new_words\n",
        "\n",
        "\n",
        "# remove non-ascii characters\n",
        "df['clustering'] = remove_non_ascii(df['clustering'])\n",
        "\n",
        "\n",
        "df['clustering'][1]"
      ],
      "metadata": {
        "id": "A4sKJLhMHrO8"
      },
      "execution_count": null,
      "outputs": []
    },
    {
      "cell_type": "markdown",
      "source": [
        "### Rephrase Text"
      ],
      "metadata": {
        "id": "0WGNXlBvH9Sw"
      }
    },
    {
      "cell_type": "code",
      "source": [
        "def lemmatize_verbs(words):\n",
        "    \"\"\"Lemmatize verbs in list of tokenized words\"\"\"\n",
        "    lemmatizer = WordNetLemmatizer()\n",
        "    lemmas = []\n",
        "    for word in words:\n",
        "        lemma = lemmatizer.lemmatize(word, pos='v')\n",
        "        lemmas.append(lemma)\n",
        "    return lemmas\n",
        "\n",
        "\n",
        "\n",
        "# Lemmatization\n",
        "df['clustering'] = lemmatize_verbs(df['clustering'])\n",
        "\n",
        "\n",
        "df['clustering'][1]"
      ],
      "metadata": {
        "id": "CEvWBmoSH_lf"
      },
      "execution_count": null,
      "outputs": []
    }
  ]
}